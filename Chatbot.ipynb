{
  "cells": [
    {
      "cell_type": "markdown",
      "source": [
        "# Importing Necessary Python Modules"
      ],
      "metadata": {
        "id": "hL6EgjkXislw"
      }
    },
    {
      "cell_type": "code",
      "execution_count": 44,
      "metadata": {
        "id": "Dz3dNNlSc81h"
      },
      "outputs": [],
      "source": [
        "%%capture\n",
        "import pandas as pd\n",
        "import numpy as np\n",
        "import os\n",
        "import yaml\n",
        "import matplotlib.pyplot as plt\n",
        "import seaborn as sns\n",
        "!pip install chatterbot\n",
        "!pip install chatterbot_corpus\n",
        "from chatterbot import ChatBot\n",
        "from chatterbot.trainers import ChatterBotCorpusTrainer\n",
        "plt.style.use('fivethirtyeight')\n",
        "plt.rcParams['figure.figsize'] = [12, 6]\n",
        "import warnings\n",
        "warnings.filterwarnings(\"ignore\")\n",
        "%config InlineBackend.figure_format = 'retina'\n",
        "from sklearn.model_selection import train_test_split\n",
        "from sklearn.feature_extraction.text import CountVectorizer\n",
        "from sklearn.feature_extraction.text import TfidfTransformer\n",
        "from sklearn.naive_bayes import MultinomialNB\n",
        "from sklearn.feature_extraction.text import TfidfVectorizer\n",
        "from sklearn.linear_model import LogisticRegression\n",
        "from sklearn.ensemble import RandomForestClassifier\n",
        "from sklearn.svm import LinearSVC\n",
        "from sklearn.model_selection import cross_val_score\n",
        "from sklearn import metrics\n",
        "from sklearn.metrics import confusion_matrix"
      ]
    },
    {
      "cell_type": "markdown",
      "source": [
        "# Importing Dataset"
      ],
      "metadata": {
        "id": "EZXb3iS0dEWd"
      }
    },
    {
      "cell_type": "code",
      "execution_count": 45,
      "metadata": {
        "id": "H0hvQtNNc81l",
        "colab": {
          "base_uri": "https://localhost:8080/"
        },
        "outputId": "d087194d-fa23-4e9a-cad2-d8170fffd457"
      },
      "outputs": [
        {
          "output_type": "stream",
          "name": "stdout",
          "text": [
            "Number of instances: 209\n",
            "Number of fearures: 3\n"
          ]
        }
      ],
      "source": [
        "# Importing directory of dataset folder\n",
        "filenames = (os.listdir(\"/content/data/\"))\n",
        "\n",
        "# assigining column names\n",
        "data = pd.DataFrame(columns={\"question\",\"answer\",\"category\"})\n",
        "\n",
        "# iterating over filesnames to extact data from the corresponding files and\n",
        "# putting them into the corresponding columns respectively\n",
        "for file in filenames:\n",
        "    data_curr = pd.DataFrame(columns={\"question\",\"answer\",\"category\"})\n",
        "    \n",
        "    file = open(\"data/\"+file)\n",
        "    file = yaml.load(file)\n",
        "    category = file[\"categories\"]\n",
        "    conversation = file[\"conversations\"]\n",
        "    \n",
        "    question = []\n",
        "    answer = []\n",
        "\n",
        "    for i in range(len(conversation)):\n",
        "        st = str(conversation[i]).split(\",\")\n",
        "        ques = st[0]\n",
        "        ans = st[1]\n",
        "        question.append(ques)\n",
        "        answer.append(ans)\n",
        "    \n",
        "    data_curr[\"question\"]=question\n",
        "    data_curr[\"answer\"]=answer\n",
        "    data_curr[\"category\"]=str(category[0])\n",
        "    data_curr = data_curr[['question','answer','category']]\n",
        "    \n",
        "    data = data.append(data_curr,ignore_index=True)\n",
        "\n",
        "# storing dataset into data variable as dataframe\n",
        "data = data[['question','answer','category']]\n",
        "\n",
        "# printing number of instances and features\n",
        "print('Number of instances: ' + str(data.shape[0]))\n",
        "print('Number of fearures: ' + str(data.shape[1]))"
      ]
    },
    {
      "cell_type": "markdown",
      "source": [
        "# Data Pre-Procesing"
      ],
      "metadata": {
        "id": "1--KPAnCdtr3"
      }
    },
    {
      "cell_type": "markdown",
      "source": [
        "Checking for NULL values\n",
        "\n",
        "Since, there is no null values in the dataset, therefore, we don't need to perform NULL VALUE ELIMINATION or INTERPOLATION methods"
      ],
      "metadata": {
        "id": "eu_ZxO2Jd5zL"
      }
    },
    {
      "cell_type": "code",
      "execution_count": 46,
      "metadata": {
        "colab": {
          "base_uri": "https://localhost:8080/"
        },
        "id": "eOQDqQysc81o",
        "outputId": "916d04e6-0c36-4087-e8e9-7b402c18c0c5"
      },
      "outputs": [
        {
          "output_type": "stream",
          "name": "stdout",
          "text": [
            "<class 'pandas.core.frame.DataFrame'>\n",
            "RangeIndex: 209 entries, 0 to 208\n",
            "Data columns (total 3 columns):\n",
            " #   Column    Non-Null Count  Dtype \n",
            "---  ------    --------------  ----- \n",
            " 0   question  209 non-null    object\n",
            " 1   answer    209 non-null    object\n",
            " 2   category  209 non-null    object\n",
            "dtypes: object(3)\n",
            "memory usage: 5.0+ KB\n"
          ]
        }
      ],
      "source": [
        "# info() method prints the null value count and datatype of corresponding columns\n",
        "data.info()"
      ]
    },
    {
      "cell_type": "markdown",
      "source": [
        "Checking for duplicate data\n",
        "\n",
        "There is no duplicate entries either. It seems that dataset is clean in terms of duplicate entries and null values."
      ],
      "metadata": {
        "id": "Z7O-8OFBeXHW"
      }
    },
    {
      "cell_type": "code",
      "source": [
        "# duplicated() method finds the duplicate data; True means - Duplicated & False means - Unique\n",
        "data.duplicated(subset=None, keep='first')"
      ],
      "metadata": {
        "colab": {
          "base_uri": "https://localhost:8080/"
        },
        "id": "p-w4fPF8ePll",
        "outputId": "20819148-e38d-4139-9b07-198e1467d6bb"
      },
      "execution_count": 47,
      "outputs": [
        {
          "output_type": "execute_result",
          "data": {
            "text/plain": [
              "0      False\n",
              "1      False\n",
              "2      False\n",
              "3      False\n",
              "4      False\n",
              "       ...  \n",
              "204    False\n",
              "205    False\n",
              "206    False\n",
              "207    False\n",
              "208    False\n",
              "Length: 209, dtype: bool"
            ]
          },
          "metadata": {},
          "execution_count": 47
        }
      ]
    },
    {
      "cell_type": "markdown",
      "source": [
        "Removing stop words and punctuations"
      ],
      "metadata": {
        "id": "KqlUgkCYfy5q"
      }
    },
    {
      "cell_type": "code",
      "source": [
        "preprocessed_text = []\n",
        "for sent in data[\"question\"]:\n",
        "    sentence=[]\n",
        "    for word in sent.split():\n",
        "        word=word.lower()\n",
        "        word = (\"\".join(x for x in word if x.isalnum()))\n",
        "        sentence.append(word)\n",
        "    \n",
        "    preprocessed_text.append(\" \".join(str(x) for x in sentence))\n",
        "\n",
        "data[\"question\"] = preprocessed_text\n",
        "\n",
        "preprocessed_text = []\n",
        "for sent in data[\"answer\"]:\n",
        "    sentence=[]\n",
        "    for word in sent.split():\n",
        "        word=word.lower()\n",
        "        word = (\"\".join(x for x in word if x.isalnum()))\n",
        "        sentence.append(word)\n",
        "    \n",
        "    preprocessed_text.append(\" \".join(str(x) for x in sentence))\n",
        "\n",
        "data[\"answer\"] = preprocessed_text"
      ],
      "metadata": {
        "id": "RGgYEcG9fw4B"
      },
      "execution_count": 48,
      "outputs": []
    },
    {
      "cell_type": "markdown",
      "source": [
        "Now, our dataset is ready to feed into the model. We can have a look at it. Exporting the dataset in CSV format."
      ],
      "metadata": {
        "id": "ImUPtcsYgtam"
      }
    },
    {
      "cell_type": "code",
      "source": [
        "data.to_csv(\"dataset_preprocessed.csv\")"
      ],
      "metadata": {
        "id": "1C1uHSLqfzPG"
      },
      "execution_count": 49,
      "outputs": []
    },
    {
      "cell_type": "markdown",
      "source": [
        "Encoding category label from strin to int because ML model can't handle string directly"
      ],
      "metadata": {
        "id": "hujn0k7-RuTj"
      }
    },
    {
      "cell_type": "code",
      "source": [
        "# labeling category from string to integer and storing them in an additional column\n",
        "data['category_id'] = data['category'].factorize()[0]\n",
        "category_id_df = data[['category', 'category_id']]\n",
        "category_to_id = dict(category_id_df.values)\n",
        "id_to_category = dict(category_id_df[['category_id', 'category']].values)"
      ],
      "metadata": {
        "id": "if6jKxUtbb4S"
      },
      "execution_count": 50,
      "outputs": []
    },
    {
      "cell_type": "markdown",
      "source": [
        "# Exploratory Analysis"
      ],
      "metadata": {
        "id": "58Nqr2GXemZ4"
      }
    },
    {
      "cell_type": "markdown",
      "source": [
        "We were asked to choose at least 5 classifications. Here, we are using 6 classifications for our project. The classifications are labeled in the figure below."
      ],
      "metadata": {
        "id": "X_e2yNrberwn"
      }
    },
    {
      "cell_type": "code",
      "execution_count": 51,
      "metadata": {
        "colab": {
          "base_uri": "https://localhost:8080/",
          "height": 467
        },
        "id": "7NnJHJUvc81p",
        "outputId": "48d151a7-d696-494d-add8-8cde54e5da35"
      },
      "outputs": [
        {
          "output_type": "execute_result",
          "data": {
            "text/plain": [
              "<matplotlib.axes._subplots.AxesSubplot at 0x7f814ab79710>"
            ]
          },
          "metadata": {},
          "execution_count": 51
        },
        {
          "output_type": "display_data",
          "data": {
            "image/png": "[encoded data removed]",
            "text/plain": [
              "<Figure size 864x432 with 1 Axes>"
            ]
          },
          "metadata": {
            "image/png": {
              "width": 796,
              "height": 433
            }
          }
        }
      ],
      "source": [
        "# grouping the data based on category and plotting the count of instances individually\n",
        "data[\"category\"].value_counts().plot.bar()"
      ]
    },
    {
      "cell_type": "markdown",
      "source": [
        "# Model Building"
      ],
      "metadata": {
        "id": "NR0FLU0Pg7vl"
      }
    },
    {
      "cell_type": "markdown",
      "source": [
        "*   Transform a count matrix to a normalized tf-idf representation (tf-idf transformer)\n",
        "*   Splitting labels and feature columns\n"
      ],
      "metadata": {
        "id": "FLwtZTahSDPj"
      }
    },
    {
      "cell_type": "code",
      "source": [
        "# transform a count matrix to a normalized tf-idf representation (tf-idf transformer)\n",
        "tfidf = TfidfVectorizer(sublinear_tf=True, min_df=5, norm='l2', encoding='latin-1', ngram_range=(1, 2), stop_words='english')\n",
        "# splitting the dataset into features and labels and converting them into array\n",
        "features = tfidf.fit_transform(data.question).toarray()\n",
        "labels = data.category_id"
      ],
      "metadata": {
        "id": "YzUUsKRvcljl"
      },
      "execution_count": 52,
      "outputs": []
    },
    {
      "cell_type": "markdown",
      "source": [
        "Train Test Split"
      ],
      "metadata": {
        "id": "MoJTzrWVXIzy"
      }
    },
    {
      "cell_type": "code",
      "source": [
        "# splitting the dataset into train and test\n",
        "# Train portion 67% and test portion 33%\n",
        "X_train, X_test, y_train, y_test, indices_train, indices_test = train_test_split(features, labels, data.index, test_size=0.33, random_state=0)"
      ],
      "metadata": {
        "id": "Uq16rGRpXJJC"
      },
      "execution_count": null,
      "outputs": []
    },
    {
      "cell_type": "markdown",
      "source": [
        "Training model with Logistic Regression"
      ],
      "metadata": {
        "id": "ePMK5zC2T8IW"
      }
    },
    {
      "cell_type": "code",
      "source": [
        "# declaring LOGISTIC REGRESSION with random state 0\n",
        "model = LogisticRegression(random_state=0)\n",
        "# Fitting the train value into the model\n",
        "model.fit(X_train, y_train)\n",
        "# prediction of our model for further analysis\n",
        "y_pred = model.predict(X_test)"
      ],
      "metadata": {
        "id": "uUiL0ceOeRAF"
      },
      "execution_count": null,
      "outputs": []
    },
    {
      "cell_type": "markdown",
      "source": [
        "Confusion Matrix"
      ],
      "metadata": {
        "id": "DQuLpgxlUEWo"
      }
    },
    {
      "cell_type": "code",
      "source": [
        "# feeding true value and predicted value into the confusion matrix\n",
        "conf_mat = confusion_matrix(y_test, y_pred)\n",
        "# Seaborn library to plot confusion matrix\n",
        "fig, ax = plt.subplots(figsize=(10,10))\n",
        "sns.heatmap(conf_mat, annot=True, fmt='d')\n",
        "plt.ylabel('Actual')\n",
        "plt.xlabel('Predicted')\n",
        "plt.show()"
      ],
      "metadata": {
        "colab": {
          "base_uri": "https://localhost:8080/",
          "height": 652
        },
        "id": "eTAh_99jUGQh",
        "outputId": "43aa3768-5b07-4ac0-9d9b-34dcc4c8997d"
      },
      "execution_count": 57,
      "outputs": [
        {
          "output_type": "display_data",
          "data": {
            "image/png": "[encoded data removed]",
            "text/plain": [
              "<Figure size 720x720 with 2 Axes>"
            ]
          },
          "metadata": {
            "image/png": {
              "width": 635,
              "height": 635
            }
          }
        }
      ]
    },
    {
      "cell_type": "markdown",
      "source": [
        "Accuracy, Precision, Recall, F1-Score"
      ],
      "metadata": {
        "id": "VtujtH0sUKFJ"
      }
    },
    {
      "cell_type": "code",
      "source": [
        "# printing the classification report\n",
        "print(metrics.classification_report(y_test, y_pred))"
      ],
      "metadata": {
        "colab": {
          "base_uri": "https://localhost:8080/"
        },
        "id": "0CKXCQGDesQo",
        "outputId": "6850585f-dfbe-43ef-ff6f-1c05ec80299c"
      },
      "execution_count": 58,
      "outputs": [
        {
          "output_type": "stream",
          "name": "stdout",
          "text": [
            "              precision    recall  f1-score   support\n",
            "\n",
            "           0       1.00      0.70      0.82        10\n",
            "           1       1.00      0.43      0.60         7\n",
            "           2       0.77      1.00      0.87        37\n",
            "           3       1.00      0.40      0.57         5\n",
            "           4       1.00      0.83      0.91         6\n",
            "           5       1.00      1.00      1.00         4\n",
            "\n",
            "    accuracy                           0.84        69\n",
            "   macro avg       0.96      0.73      0.80        69\n",
            "weighted avg       0.88      0.84      0.83        69\n",
            "\n"
          ]
        }
      ]
    },
    {
      "cell_type": "markdown",
      "source": [
        "# Chatbot"
      ],
      "metadata": {
        "id": "q4-5ifOucjPn"
      }
    },
    {
      "cell_type": "code",
      "source": [
        "%%capture\n",
        "# integrating our model to chatbot\n",
        "model = ChatBot('Logistic Regression')\n",
        "trainer = ChatterBotCorpusTrainer(model)\n",
        "trainer.train(\"/content/data\")"
      ],
      "metadata": {
        "id": "2YTVpx5g4kQV"
      },
      "execution_count": 59,
      "outputs": []
    },
    {
      "cell_type": "markdown",
      "source": [
        "Chatbot interface - There's a web app too"
      ],
      "metadata": {
        "id": "1r0MKXk5dTKd"
      }
    },
    {
      "cell_type": "code",
      "source": [
        "# interface of the chatbot; type quit to STOP\n",
        "while(1):\n",
        "  inputBot = input(\"Type: \")\n",
        "\n",
        "  if(inputBot == 'quit'):\n",
        "    print('Response: Bye!')\n",
        "    break\n",
        "  else:\n",
        "    outBot = chatbot.get_response(inputBot)\n",
        "    print('Response: ' + str(outBot))"
      ],
      "metadata": {
        "colab": {
          "base_uri": "https://localhost:8080/"
        },
        "id": "FkXpdWgrbxUX",
        "outputId": "f63c23b9-ed34-4605-cc11-35fab63d2ae0"
      },
      "execution_count": 65,
      "outputs": [
        {
          "output_type": "stream",
          "name": "stdout",
          "text": [
            "Type: Hello\n",
            "Response: Hi\n",
            "Type: How do you do\n",
            "Response: I'm doing well.\n",
            "Type: Do you drink\n",
            "Response: My brain does not require any beverages.\n",
            "Type: What language are you written in\n",
            "Response: Python.\n",
            "Type: What is teknolust\n",
            "Response: is a science fiction film about a female pleasure bot named agent ruby.\n",
            "Type: Who is spider man\n",
            "Response: peter parker.\n",
            "Type: It is a pleasure to meet you\n",
            "Type: quit\n",
            "Response: Bye!\n"
          ]
        }
      ]
    }
  ],
  "metadata": {
    "kernelspec": {
      "display_name": "Python 3",
      "language": "python",
      "name": "python3"
    },
    "language_info": {
      "codemirror_mode": {
        "name": "ipython",
        "version": 3
      },
      "file_extension": ".py",
      "mimetype": "text/x-python",
      "name": "python",
      "nbconvert_exporter": "python",
      "pygments_lexer": "ipython3",
      "version": "3.6.5"
    },
    "colab": {
      "name": "razshe - Chatbot.ipynb",
      "provenance": [],
      "collapsed_sections": [
        "hL6EgjkXislw",
        "EZXb3iS0dEWd",
        "1--KPAnCdtr3",
        "58Nqr2GXemZ4",
        "NR0FLU0Pg7vl",
        "q4-5ifOucjPn"
      ]
    }
  },
  "nbformat": 4,
  "nbformat_minor": 0
}